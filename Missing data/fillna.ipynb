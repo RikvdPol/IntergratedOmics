{
 "cells": [
  {
   "cell_type": "code",
   "execution_count": null,
   "id": "335200b2",
   "metadata": {},
   "outputs": [],
   "source": [
    "import pandas as pd\n",
    "import numpy as np\n"
   ]
  },
  {
   "cell_type": "code",
   "execution_count": null,
   "id": "fbbc5f4b",
   "metadata": {},
   "outputs": [],
   "source": [
    "X = np.empty((6,6))\n",
    "X[1,1] = np.nan\n",
    "X[2,2] = np.nan\n",
    "X[0,4] = np.nan"
   ]
  },
  {
   "cell_type": "code",
   "execution_count": null,
   "id": "a777306f",
   "metadata": {},
   "outputs": [],
   "source": [
    "X"
   ]
  },
  {
   "cell_type": "code",
   "execution_count": 6,
   "id": "55a659f6",
   "metadata": {
    "scrolled": true
   },
   "outputs": [
    {
     "data": {
      "text/html": [
       "<div>\n",
       "<style scoped>\n",
       "    .dataframe tbody tr th:only-of-type {\n",
       "        vertical-align: middle;\n",
       "    }\n",
       "\n",
       "    .dataframe tbody tr th {\n",
       "        vertical-align: top;\n",
       "    }\n",
       "\n",
       "    .dataframe thead th {\n",
       "        text-align: right;\n",
       "    }\n",
       "</style>\n",
       "<table border=\"1\" class=\"dataframe\">\n",
       "  <thead>\n",
       "    <tr style=\"text-align: right;\">\n",
       "      <th></th>\n",
       "      <th>0</th>\n",
       "      <th>1</th>\n",
       "      <th>2</th>\n",
       "      <th>3</th>\n",
       "      <th>4</th>\n",
       "      <th>5</th>\n",
       "    </tr>\n",
       "  </thead>\n",
       "  <tbody>\n",
       "    <tr>\n",
       "      <th>0</th>\n",
       "      <td>9.204600e-312</td>\n",
       "      <td>9.204271e-312</td>\n",
       "      <td>7.351616e+223</td>\n",
       "      <td>6.013470e-154</td>\n",
       "      <td>NaN</td>\n",
       "      <td>4.884835e+252</td>\n",
       "    </tr>\n",
       "    <tr>\n",
       "      <th>1</th>\n",
       "      <td>6.013290e-154</td>\n",
       "      <td>NaN</td>\n",
       "      <td>9.204711e-312</td>\n",
       "      <td>9.204335e-312</td>\n",
       "      <td>3.946551e+180</td>\n",
       "      <td>6.013470e-154</td>\n",
       "    </tr>\n",
       "    <tr>\n",
       "      <th>2</th>\n",
       "      <td>1.329712e-152</td>\n",
       "      <td>2.217567e+68</td>\n",
       "      <td>NaN</td>\n",
       "      <td>3.170959e+180</td>\n",
       "      <td>2.437227e-152</td>\n",
       "      <td>2.181744e+243</td>\n",
       "    </tr>\n",
       "    <tr>\n",
       "      <th>3</th>\n",
       "      <td>1.482544e+195</td>\n",
       "      <td>5.466536e+241</td>\n",
       "      <td>2.465998e-154</td>\n",
       "      <td>6.013470e-154</td>\n",
       "      <td>3.447478e-85</td>\n",
       "      <td>5.981422e-154</td>\n",
       "    </tr>\n",
       "    <tr>\n",
       "      <th>4</th>\n",
       "      <td>1.240024e+180</td>\n",
       "      <td>2.464549e-154</td>\n",
       "      <td>2.473798e-91</td>\n",
       "      <td>1.186005e-259</td>\n",
       "      <td>6.013470e-154</td>\n",
       "      <td>7.358765e+223</td>\n",
       "    </tr>\n",
       "    <tr>\n",
       "      <th>5</th>\n",
       "      <td>2.994843e+262</td>\n",
       "      <td>2.865238e+161</td>\n",
       "      <td>7.628620e+228</td>\n",
       "      <td>7.358765e+223</td>\n",
       "      <td>6.013470e-154</td>\n",
       "      <td>2.181846e+243</td>\n",
       "    </tr>\n",
       "  </tbody>\n",
       "</table>\n",
       "</div>"
      ],
      "text/plain": [
       "               0              1              2              3              4  \\\n",
       "0  9.204600e-312  9.204271e-312  7.351616e+223  6.013470e-154            NaN   \n",
       "1  6.013290e-154            NaN  9.204711e-312  9.204335e-312  3.946551e+180   \n",
       "2  1.329712e-152   2.217567e+68            NaN  3.170959e+180  2.437227e-152   \n",
       "3  1.482544e+195  5.466536e+241  2.465998e-154  6.013470e-154   3.447478e-85   \n",
       "4  1.240024e+180  2.464549e-154   2.473798e-91  1.186005e-259  6.013470e-154   \n",
       "5  2.994843e+262  2.865238e+161  7.628620e+228  7.358765e+223  6.013470e-154   \n",
       "\n",
       "               5  \n",
       "0  4.884835e+252  \n",
       "1  6.013470e-154  \n",
       "2  2.181744e+243  \n",
       "3  5.981422e-154  \n",
       "4  7.358765e+223  \n",
       "5  2.181846e+243  "
      ]
     },
     "execution_count": 6,
     "metadata": {},
     "output_type": "execute_result"
    }
   ],
   "source": [
    "df = pd.DataFrame(X)\n",
    "df"
   ]
  },
  {
   "cell_type": "code",
   "execution_count": 7,
   "id": "01cb10b7",
   "metadata": {},
   "outputs": [
    {
     "data": {
      "text/plain": [
       "<bound method NDFrame._add_numeric_operations.<locals>.mean of 0    7.351616e+223\n",
       "1    9.204711e-312\n",
       "2              NaN\n",
       "3    2.465998e-154\n",
       "4     2.473798e-91\n",
       "5    7.628620e+228\n",
       "Name: 2, dtype: float64>"
      ]
     },
     "execution_count": 7,
     "metadata": {},
     "output_type": "execute_result"
    }
   ],
   "source": [
    "df[2].mean"
   ]
  },
  {
   "cell_type": "code",
   "execution_count": null,
   "id": "b42a15d7",
   "metadata": {},
   "outputs": [],
   "source": [
    "value = df[1].mean\n",
    "df[1].fillna(value, inplace=True)\n",
    "df"
   ]
  },
  {
   "cell_type": "code",
   "execution_count": null,
   "id": "83bed2b3",
   "metadata": {},
   "outputs": [],
   "source": []
  },
  {
   "cell_type": "code",
   "execution_count": null,
   "id": "adf520c8",
   "metadata": {},
   "outputs": [],
   "source": []
  }
 ],
 "metadata": {
  "kernelspec": {
   "display_name": "Python 3 (ipykernel)",
   "language": "python",
   "name": "python3"
  },
  "language_info": {
   "codemirror_mode": {
    "name": "ipython",
    "version": 3
   },
   "file_extension": ".py",
   "mimetype": "text/x-python",
   "name": "python",
   "nbconvert_exporter": "python",
   "pygments_lexer": "ipython3",
   "version": "3.9.7"
  }
 },
 "nbformat": 4,
 "nbformat_minor": 5
}
